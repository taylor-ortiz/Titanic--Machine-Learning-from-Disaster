{
 "cells": [
  {
   "cell_type": "code",
   "execution_count": 2,
   "id": "c0f95933",
   "metadata": {
    "_cell_guid": "b1076dfc-b9ad-4769-8c92-a6c4dae69d19",
    "_uuid": "8f2839f25d086af736a60e9eeb907d3b93b6e0e5",
    "execution": {
     "iopub.execute_input": "2023-08-23T18:51:27.011778Z",
     "iopub.status.busy": "2023-08-23T18:51:27.011203Z",
     "iopub.status.idle": "2023-08-23T18:51:27.027707Z",
     "shell.execute_reply": "2023-08-23T18:51:27.026157Z"
    },
    "papermill": {
     "duration": 0.026276,
     "end_time": "2023-08-23T18:51:27.030382",
     "exception": false,
     "start_time": "2023-08-23T18:51:27.004106",
     "status": "completed"
    },
    "tags": []
   },
   "outputs": [],
   "source": [
    "# This Python 3 environment comes with many helpful analytics libraries installed\n",
    "# It is defined by the kaggle/python Docker image: https://github.com/kaggle/docker-python\n",
    "# For example, here's several helpful packages to load\n",
    "\n",
    "import numpy as np # linear algebra\n",
    "import pandas as pd # data processing, CSV file I/O (e.g. pd.read_csv)\n",
    "\n",
    "# Input data files are available in the read-only \"../input/\" directory\n",
    "# For example, running this (by clicking run or pressing Shift+Enter) will list all files under the input directory\n"
   ]
  },
  {
   "cell_type": "markdown",
   "id": "41ddc74f",
   "metadata": {
    "papermill": {
     "duration": 0.004314,
     "end_time": "2023-08-23T18:51:27.039698",
     "exception": false,
     "start_time": "2023-08-23T18:51:27.035384",
     "status": "completed"
    },
    "tags": []
   },
   "source": [
    "## Load the training data"
   ]
  },
  {
   "cell_type": "code",
   "execution_count": 4,
   "id": "049f4058",
   "metadata": {
    "execution": {
     "iopub.execute_input": "2023-08-23T18:51:27.050821Z",
     "iopub.status.busy": "2023-08-23T18:51:27.050402Z",
     "iopub.status.idle": "2023-08-23T18:51:27.089833Z",
     "shell.execute_reply": "2023-08-23T18:51:27.088940Z"
    },
    "papermill": {
     "duration": 0.047919,
     "end_time": "2023-08-23T18:51:27.092200",
     "exception": false,
     "start_time": "2023-08-23T18:51:27.044281",
     "status": "completed"
    },
    "tags": []
   },
   "outputs": [
    {
     "data": {
      "text/plain": [
       "0      0\n",
       "1      1\n",
       "2      1\n",
       "3      1\n",
       "4      0\n",
       "      ..\n",
       "886    0\n",
       "887    1\n",
       "888    0\n",
       "889    1\n",
       "890    0\n",
       "Name: Survived, Length: 891, dtype: int64"
      ]
     },
     "execution_count": 4,
     "metadata": {},
     "output_type": "execute_result"
    }
   ],
   "source": [
    "train_data = pd.read_csv(\"train.csv\")\n",
    "train_data['Survived']"
   ]
  },
  {
   "cell_type": "markdown",
   "id": "5b5d4a4a",
   "metadata": {
    "papermill": {
     "duration": 0.004631,
     "end_time": "2023-08-23T18:51:27.101820",
     "exception": false,
     "start_time": "2023-08-23T18:51:27.097189",
     "status": "completed"
    },
    "tags": []
   },
   "source": [
    "## Load the test data"
   ]
  },
  {
   "cell_type": "code",
   "execution_count": 5,
   "id": "7b80cbb1",
   "metadata": {
    "execution": {
     "iopub.execute_input": "2023-08-23T18:51:27.113797Z",
     "iopub.status.busy": "2023-08-23T18:51:27.113377Z",
     "iopub.status.idle": "2023-08-23T18:51:27.143420Z",
     "shell.execute_reply": "2023-08-23T18:51:27.142265Z"
    },
    "papermill": {
     "duration": 0.039167,
     "end_time": "2023-08-23T18:51:27.145972",
     "exception": false,
     "start_time": "2023-08-23T18:51:27.106805",
     "status": "completed"
    },
    "tags": []
   },
   "outputs": [
    {
     "data": {
      "text/html": [
       "<div>\n",
       "<style scoped>\n",
       "    .dataframe tbody tr th:only-of-type {\n",
       "        vertical-align: middle;\n",
       "    }\n",
       "\n",
       "    .dataframe tbody tr th {\n",
       "        vertical-align: top;\n",
       "    }\n",
       "\n",
       "    .dataframe thead th {\n",
       "        text-align: right;\n",
       "    }\n",
       "</style>\n",
       "<table border=\"1\" class=\"dataframe\">\n",
       "  <thead>\n",
       "    <tr style=\"text-align: right;\">\n",
       "      <th></th>\n",
       "      <th>PassengerId</th>\n",
       "      <th>Pclass</th>\n",
       "      <th>Name</th>\n",
       "      <th>Sex</th>\n",
       "      <th>Age</th>\n",
       "      <th>SibSp</th>\n",
       "      <th>Parch</th>\n",
       "      <th>Ticket</th>\n",
       "      <th>Fare</th>\n",
       "      <th>Cabin</th>\n",
       "      <th>Embarked</th>\n",
       "    </tr>\n",
       "  </thead>\n",
       "  <tbody>\n",
       "    <tr>\n",
       "      <th>0</th>\n",
       "      <td>892</td>\n",
       "      <td>3</td>\n",
       "      <td>Kelly, Mr. James</td>\n",
       "      <td>male</td>\n",
       "      <td>34.5</td>\n",
       "      <td>0</td>\n",
       "      <td>0</td>\n",
       "      <td>330911</td>\n",
       "      <td>7.8292</td>\n",
       "      <td>NaN</td>\n",
       "      <td>Q</td>\n",
       "    </tr>\n",
       "    <tr>\n",
       "      <th>1</th>\n",
       "      <td>893</td>\n",
       "      <td>3</td>\n",
       "      <td>Wilkes, Mrs. James (Ellen Needs)</td>\n",
       "      <td>female</td>\n",
       "      <td>47.0</td>\n",
       "      <td>1</td>\n",
       "      <td>0</td>\n",
       "      <td>363272</td>\n",
       "      <td>7.0000</td>\n",
       "      <td>NaN</td>\n",
       "      <td>S</td>\n",
       "    </tr>\n",
       "    <tr>\n",
       "      <th>2</th>\n",
       "      <td>894</td>\n",
       "      <td>2</td>\n",
       "      <td>Myles, Mr. Thomas Francis</td>\n",
       "      <td>male</td>\n",
       "      <td>62.0</td>\n",
       "      <td>0</td>\n",
       "      <td>0</td>\n",
       "      <td>240276</td>\n",
       "      <td>9.6875</td>\n",
       "      <td>NaN</td>\n",
       "      <td>Q</td>\n",
       "    </tr>\n",
       "    <tr>\n",
       "      <th>3</th>\n",
       "      <td>895</td>\n",
       "      <td>3</td>\n",
       "      <td>Wirz, Mr. Albert</td>\n",
       "      <td>male</td>\n",
       "      <td>27.0</td>\n",
       "      <td>0</td>\n",
       "      <td>0</td>\n",
       "      <td>315154</td>\n",
       "      <td>8.6625</td>\n",
       "      <td>NaN</td>\n",
       "      <td>S</td>\n",
       "    </tr>\n",
       "    <tr>\n",
       "      <th>4</th>\n",
       "      <td>896</td>\n",
       "      <td>3</td>\n",
       "      <td>Hirvonen, Mrs. Alexander (Helga E Lindqvist)</td>\n",
       "      <td>female</td>\n",
       "      <td>22.0</td>\n",
       "      <td>1</td>\n",
       "      <td>1</td>\n",
       "      <td>3101298</td>\n",
       "      <td>12.2875</td>\n",
       "      <td>NaN</td>\n",
       "      <td>S</td>\n",
       "    </tr>\n",
       "  </tbody>\n",
       "</table>\n",
       "</div>"
      ],
      "text/plain": [
       "   PassengerId  Pclass                                          Name     Sex  \\\n",
       "0          892       3                              Kelly, Mr. James    male   \n",
       "1          893       3              Wilkes, Mrs. James (Ellen Needs)  female   \n",
       "2          894       2                     Myles, Mr. Thomas Francis    male   \n",
       "3          895       3                              Wirz, Mr. Albert    male   \n",
       "4          896       3  Hirvonen, Mrs. Alexander (Helga E Lindqvist)  female   \n",
       "\n",
       "    Age  SibSp  Parch   Ticket     Fare Cabin Embarked  \n",
       "0  34.5      0      0   330911   7.8292   NaN        Q  \n",
       "1  47.0      1      0   363272   7.0000   NaN        S  \n",
       "2  62.0      0      0   240276   9.6875   NaN        Q  \n",
       "3  27.0      0      0   315154   8.6625   NaN        S  \n",
       "4  22.0      1      1  3101298  12.2875   NaN        S  "
      ]
     },
     "execution_count": 5,
     "metadata": {},
     "output_type": "execute_result"
    }
   ],
   "source": [
    "test_data = pd.read_csv(\"test.csv\")\n",
    "test_data.head()"
   ]
  },
  {
   "cell_type": "markdown",
   "id": "a02666dc",
   "metadata": {
    "papermill": {
     "duration": 0.004979,
     "end_time": "2023-08-23T18:51:27.156529",
     "exception": false,
     "start_time": "2023-08-23T18:51:27.151550",
     "status": "completed"
    },
    "tags": []
   },
   "source": [
    "## Check the quality of data"
   ]
  },
  {
   "cell_type": "code",
   "execution_count": 6,
   "id": "24321fbf",
   "metadata": {
    "execution": {
     "iopub.execute_input": "2023-08-23T18:51:27.169543Z",
     "iopub.status.busy": "2023-08-23T18:51:27.168354Z",
     "iopub.status.idle": "2023-08-23T18:51:27.178340Z",
     "shell.execute_reply": "2023-08-23T18:51:27.177558Z"
    },
    "papermill": {
     "duration": 0.018672,
     "end_time": "2023-08-23T18:51:27.180515",
     "exception": false,
     "start_time": "2023-08-23T18:51:27.161843",
     "status": "completed"
    },
    "tags": []
   },
   "outputs": [
    {
     "data": {
      "text/plain": [
       "PassengerId      0\n",
       "Survived         0\n",
       "Pclass           0\n",
       "Name             0\n",
       "Sex              0\n",
       "Age            177\n",
       "SibSp            0\n",
       "Parch            0\n",
       "Ticket           0\n",
       "Fare             0\n",
       "Cabin          687\n",
       "Embarked         2\n",
       "dtype: int64"
      ]
     },
     "execution_count": 6,
     "metadata": {},
     "output_type": "execute_result"
    }
   ],
   "source": [
    "train_data.isna().sum()"
   ]
  },
  {
   "cell_type": "markdown",
   "id": "e24dce0e",
   "metadata": {
    "papermill": {
     "duration": 0.006711,
     "end_time": "2023-08-23T18:51:27.192578",
     "exception": false,
     "start_time": "2023-08-23T18:51:27.185867",
     "status": "completed"
    },
    "tags": []
   },
   "source": [
    "## Remove data that is not useful"
   ]
  },
  {
   "cell_type": "code",
   "execution_count": 7,
   "id": "ba3fe433",
   "metadata": {
    "execution": {
     "iopub.execute_input": "2023-08-23T18:51:27.205886Z",
     "iopub.status.busy": "2023-08-23T18:51:27.204852Z",
     "iopub.status.idle": "2023-08-23T18:51:27.225621Z",
     "shell.execute_reply": "2023-08-23T18:51:27.224478Z"
    },
    "papermill": {
     "duration": 0.029764,
     "end_time": "2023-08-23T18:51:27.228008",
     "exception": false,
     "start_time": "2023-08-23T18:51:27.198244",
     "status": "completed"
    },
    "tags": []
   },
   "outputs": [
    {
     "data": {
      "text/plain": [
       "PassengerId      0\n",
       "Survived         0\n",
       "Pclass           0\n",
       "Name             0\n",
       "Sex              0\n",
       "Age            177\n",
       "SibSp            0\n",
       "Parch            0\n",
       "Ticket           0\n",
       "Fare             0\n",
       "Embarked         2\n",
       "dtype: int64"
      ]
     },
     "execution_count": 7,
     "metadata": {},
     "output_type": "execute_result"
    }
   ],
   "source": [
    "train_data = train_data.drop(columns=['Cabin'], axis=1)\n",
    "train_data.isna().sum()"
   ]
  },
  {
   "cell_type": "markdown",
   "id": "72fae9f8",
   "metadata": {
    "papermill": {
     "duration": 0.005281,
     "end_time": "2023-08-23T18:51:27.238963",
     "exception": false,
     "start_time": "2023-08-23T18:51:27.233682",
     "status": "completed"
    },
    "tags": []
   },
   "source": [
    "## Replace missing data"
   ]
  },
  {
   "cell_type": "code",
   "execution_count": 8,
   "id": "92ba6bc3",
   "metadata": {
    "execution": {
     "iopub.execute_input": "2023-08-23T18:51:27.252155Z",
     "iopub.status.busy": "2023-08-23T18:51:27.251693Z",
     "iopub.status.idle": "2023-08-23T18:51:27.278221Z",
     "shell.execute_reply": "2023-08-23T18:51:27.277166Z"
    },
    "papermill": {
     "duration": 0.035913,
     "end_time": "2023-08-23T18:51:27.280603",
     "exception": false,
     "start_time": "2023-08-23T18:51:27.244690",
     "status": "completed"
    },
    "tags": []
   },
   "outputs": [
    {
     "name": "stdout",
     "output_type": "stream",
     "text": [
      "29.69911764705882\n"
     ]
    },
    {
     "data": {
      "text/plain": [
       "PassengerId    0\n",
       "Survived       0\n",
       "Pclass         0\n",
       "Name           0\n",
       "Sex            0\n",
       "Age            0\n",
       "SibSp          0\n",
       "Parch          0\n",
       "Ticket         0\n",
       "Fare           0\n",
       "Embarked       0\n",
       "dtype: int64"
      ]
     },
     "execution_count": 8,
     "metadata": {},
     "output_type": "execute_result"
    }
   ],
   "source": [
    "#Finding the mean of the Age column having NaN\n",
    "mean_value=train_data['Age'].mean()\n",
    "print(mean_value)\n",
    "\n",
    "train_data['Age'].fillna(value=mean_value, inplace=True)\n",
    "train_data.isna().sum()\n",
    "\n",
    "#Finding the mode of the Embarked column having NaN\n",
    "embarked_mode = train_data['Embarked'].mode()[0]\n",
    "train_data['Embarked'].fillna(value=embarked_mode, inplace=True)\n",
    "train_data.isna().sum()"
   ]
  },
  {
   "cell_type": "markdown",
   "id": "cf8f8170",
   "metadata": {
    "papermill": {
     "duration": 0.005504,
     "end_time": "2023-08-23T18:51:27.291910",
     "exception": false,
     "start_time": "2023-08-23T18:51:27.286406",
     "status": "completed"
    },
    "tags": []
   },
   "source": [
    "## Predict Survival for other passengers"
   ]
  },
  {
   "cell_type": "code",
   "execution_count": 25,
   "id": "ea5d82ea",
   "metadata": {
    "execution": {
     "iopub.execute_input": "2023-08-23T18:51:27.305801Z",
     "iopub.status.busy": "2023-08-23T18:51:27.305425Z",
     "iopub.status.idle": "2023-08-23T18:51:29.481291Z",
     "shell.execute_reply": "2023-08-23T18:51:29.480014Z"
    },
    "papermill": {
     "duration": 2.186532,
     "end_time": "2023-08-23T18:51:29.484398",
     "exception": false,
     "start_time": "2023-08-23T18:51:27.297866",
     "status": "completed"
    },
    "tags": []
   },
   "outputs": [
    {
     "name": "stdout",
     "output_type": "stream",
     "text": [
      "The random forest classifier model predicts that 38.38% of people\n",
      "in the test set would have survived the titanic based on their Pclass, Sex, SibSp and Parch\n"
     ]
    }
   ],
   "source": [
    "from sklearn.ensemble import RandomForestClassifier\n",
    "\n",
    "# extract the dependent variable. note: this is already in the correct format\n",
    "y = train_data[\"Survived\"]\n",
    "\n",
    "features = [\"Pclass\", \"Sex\", \"SibSp\", \"Parch\"]\n",
    "# convert categorical data into dummy data for processing. I dont think this requires more advanced encoding like label or one hot because\n",
    "# the only categorical value in here truly is Sex which is male and female. Im kind of curious if creating two dummy columns will hurt the model.\n",
    "X = pd.get_dummies(train_data[features])\n",
    "# important to note here that test data, by default, does not have a Survived column. This is nice for the exercise but not realistic. In reality, we would need to separate out our train and test data sets to compare\n",
    "X_test = pd.get_dummies(test_data[features])\n",
    "\n",
    "\n",
    "# max depth is 5 because thats how many columns we are assessing\n",
    "model = RandomForestClassifier(n_estimators=100, max_depth=5, random_state=1)\n",
    "model.fit(X, y)\n",
    "predictions = model.predict(X_test)\n",
    "\n",
    "output = pd.DataFrame({'PassengerId': test_data.PassengerId, 'Survived': predictions})\n",
    "output.to_csv('submission.csv', index=False)\n",
    "did_survive = train_data.loc[train_data['Survived'] == 1][\"Survived\"]\n",
    "perc_survived = (did_survive.sum()/len(train_data[\"Survived\"])) * 100\n",
    "print(f\"\"\"The random forest classifier model predicts that {round(perc_survived, 2)}% of people\n",
    "in the test set would have survived the titanic based on their Pclass, Sex, SibSp and Parch\"\"\")\n",
    "# make sure there is no missing data"
   ]
  }
 ],
 "metadata": {
  "kernelspec": {
   "display_name": "Python 3",
   "language": "python",
   "name": "python3"
  },
  "language_info": {
   "codemirror_mode": {
    "name": "ipython",
    "version": 3
   },
   "file_extension": ".py",
   "mimetype": "text/x-python",
   "name": "python",
   "nbconvert_exporter": "python",
   "pygments_lexer": "ipython3",
   "version": "3.11.4"
  },
  "papermill": {
   "default_parameters": {},
   "duration": 15.644818,
   "end_time": "2023-08-23T18:51:30.514162",
   "environment_variables": {},
   "exception": null,
   "input_path": "__notebook__.ipynb",
   "output_path": "__notebook__.ipynb",
   "parameters": {},
   "start_time": "2023-08-23T18:51:14.869344",
   "version": "2.4.0"
  }
 },
 "nbformat": 4,
 "nbformat_minor": 5
}
